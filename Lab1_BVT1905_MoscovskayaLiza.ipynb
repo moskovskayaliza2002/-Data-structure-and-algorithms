{
 "cells": [
  {
   "cell_type": "markdown",
   "metadata": {},
   "source": [
    "# Лабораторная работа №1\n",
    "## Выполнила студентка группы БВТ1905 Московская Елизавета Дмитриевна\n",
    "### Задание №1:\n",
    "Вывести на экран Hello, World."
   ]
  },
  {
   "cell_type": "code",
   "execution_count": 1,
   "metadata": {},
   "outputs": [
    {
     "name": "stdout",
     "output_type": "stream",
     "text": [
      "Hello, World.\n"
     ]
    }
   ],
   "source": [
    "print(\"Hello, World.\")"
   ]
  },
  {
   "cell_type": "markdown",
   "metadata": {},
   "source": [
    "### Задание №2:\n",
    "Написать генератор случайных матриц(многомерных), который принимает\n",
    "опциональные параметры m, n, min_limit, max_limit, где m и n указывают размер\n",
    "матрицы, а min_lim и max_lim - минимальное и максимальное значение для\n",
    "генерируемого числа . По умолчанию при отсутствии параметров принимать следующие\n",
    "значения: \n",
    "m = 50\n",
    "n = 50\n",
    "min_limit = -250\n",
    "max_limit = 1000 + (номер своего варианта)"
   ]
  },
  {
   "cell_type": "code",
   "execution_count": 2,
   "metadata": {},
   "outputs": [],
   "source": [
    "import random\n",
    "def generator(m = 50, n = 50, min_limit = -250, max_limit = 1014):\n",
    "    matrix = []\n",
    "    for i in range(m):\n",
    "        matrix.append([])\n",
    "        for j in range(n):\n",
    "            matrix[i].append(random.randint(min_limit, max_limit + 1))\n",
    "    return matrix"
   ]
  },
  {
   "cell_type": "markdown",
   "metadata": {},
   "source": [
    "### Задание №3:\n",
    "Реализовать методы сортировки строк числовой матрицы в соответствии с\n",
    "заданием. Оценить время работы каждого алгоритма сортировки и сравнить его со\n",
    "временем стандартной функции сортировки. Испытания проводить на сгенерированных\n",
    "матрицах. Методы: 1) выбором 2) вставкой 3) обменом 4) Шелла 5) турнирная 6) быстрая сортировка 7) пирамидальная"
   ]
  },
  {
   "cell_type": "code",
   "execution_count": 3,
   "metadata": {},
   "outputs": [],
   "source": [
    "import time"
   ]
  },
  {
   "cell_type": "code",
   "execution_count": 4,
   "metadata": {},
   "outputs": [],
   "source": [
    "n_matrix = generator()"
   ]
  },
  {
   "cell_type": "code",
   "execution_count": 5,
   "metadata": {},
   "outputs": [
    {
     "name": "stdout",
     "output_type": "stream",
     "text": [
      "Время сортировки выбором:  0.2923011779785156\n"
     ]
    }
   ],
   "source": [
    "# part 1\n",
    "start = time.time()\n",
    "def selection_sort(matrix):\n",
    "    for i in range(len(matrix)):\n",
    "        number_of_min = i\n",
    "        for j in range(i, len(matrix)):\n",
    "            if matrix[j] < matrix[number_of_min]:\n",
    "                number_of_min = j\n",
    "        matrix[i], matrix[number_of_min] = matrix[number_of_min], matrix[i]\n",
    "    print(\"Время сортировки выбором: \", (time.time() - start)*1000)\n",
    "selection_sort(n_matrix)"
   ]
  },
  {
   "cell_type": "code",
   "execution_count": 6,
   "metadata": {},
   "outputs": [
    {
     "name": "stdout",
     "output_type": "stream",
     "text": [
      "Время сортировки вставкой:  0.141143798828125\n"
     ]
    }
   ],
   "source": [
    "# part 2\n",
    "start = time.time()\n",
    "def insertion_sort(matrix):\n",
    "    for i in range(len(matrix) - 1):\n",
    "        number = i\n",
    "        while number > 0 and matrix[number - 1] > matrix[i]:\n",
    "            matrix[number] = matrix[number - 1]\n",
    "            number -= 1\n",
    "    print(\"Время сортировки вставкой: \", (time.time() - start)*1000)\n",
    "insertion_sort(n_matrix)"
   ]
  },
  {
   "cell_type": "code",
   "execution_count": 7,
   "metadata": {},
   "outputs": [
    {
     "name": "stdout",
     "output_type": "stream",
     "text": [
      "Время сортировки обменом:  0.2684593200683594\n"
     ]
    }
   ],
   "source": [
    "# part 3\n",
    "start = time.time()\n",
    "def bubble_sort(matrix):\n",
    "    for i in range(len(matrix) - 1):\n",
    "        for j in range(i):\n",
    "            if matrix[j] > matrix[j + 1]:\n",
    "                matrix[j], matrix[j + 1] = matrix[j + 1], matrix[j]\n",
    "    print(\"Время сортировки обменом: \", (time.time() - start)*1000)\n",
    "bubble_sort(n_matrix)"
   ]
  },
  {
   "cell_type": "code",
   "execution_count": 8,
   "metadata": {},
   "outputs": [
    {
     "name": "stdout",
     "output_type": "stream",
     "text": [
      "Время сортировки Шелла:  0.17547607421875\n"
     ]
    }
   ],
   "source": [
    "# part 4\n",
    "start = time.time()\n",
    "def shell_sort(matrix):\n",
    "    distance = len(matrix) // 2\n",
    "    while distance > 0:\n",
    "        for i in range(len(matrix) - distance):\n",
    "            if matrix[i] > matrix[i + distance]:\n",
    "                matrix[i], matrix[i + distance] = matrix[i + distance], matrix[i]\n",
    "        distance //= 2\n",
    "    print(\"Время сортировки Шелла: \", (time.time() - start)*1000)\n",
    "shell_sort(n_matrix)"
   ]
  },
  {
   "cell_type": "code",
   "execution_count": 9,
   "metadata": {},
   "outputs": [
    {
     "name": "stdout",
     "output_type": "stream",
     "text": [
      "Время турнирной сортировки:  0.39958953857421875\n"
     ]
    }
   ],
   "source": [
    "# part 5\n",
    "start = time.time()\n",
    "def heapify(matrix, lenght, index):\n",
    "        maximum = index\n",
    "        left = 2 * index\n",
    "        right = 2 * index + 1\n",
    "        if left < lenght and matrix[maximum] < matrix[left]:\n",
    "            maximum = left\n",
    "        if right < lenght and matrix[maximum] < matrix[right]:\n",
    "            maximum = right\n",
    "        if maximum != index:\n",
    "            matrix[index], matrix[maximum] = matrix[maximum], matrix[index]\n",
    "            heapify(matrix, lenght, maximum)\n",
    "        return matrix\n",
    "def tour_sort(matrix):  \n",
    "    for i in range(len(matrix) // 2, -1, -1):\n",
    "        heapify(matrix, len(matrix), i)\n",
    "    for i in range(len(matrix) - 1, -1, -1):\n",
    "        if matrix[0] > matrix[i]:\n",
    "            matrix[0], matrix[i] = matrix[i], matrix[0]\n",
    "            heapify(matrix, i, 0)\n",
    "    print(\"Время турнирной сортировки: \", (time.time() - start)*1000)\n",
    "tour_sort(n_matrix)"
   ]
  },
  {
   "cell_type": "code",
   "execution_count": 10,
   "metadata": {},
   "outputs": [
    {
     "name": "stdout",
     "output_type": "stream",
     "text": [
      "Время быстрой сортировки:  0.0004627704620361328\n"
     ]
    }
   ],
   "source": [
    "# part 6\n",
    "def quick_sort(matrix):\n",
    "    if len(matrix) <= 1:\n",
    "        return matrix\n",
    "    prop = matrix[0]\n",
    "    left = [i for i in matrix if i < prop]\n",
    "    center = [i for i in matrix if i == prop]\n",
    "    right = [i for i in matrix if i > prop]\n",
    "    final_matrix = quick_sort(left) + center + quick_sort(right)\n",
    "    return final_matrix\n",
    "q_start = time.time()\n",
    "quick_sort(n_matrix)\n",
    "finish = time.time()\n",
    "print(\"Время быстрой сортировки: \",finish-q_start)"
   ]
  },
  {
   "cell_type": "code",
   "execution_count": 11,
   "metadata": {},
   "outputs": [
    {
     "name": "stdout",
     "output_type": "stream",
     "text": [
      "Время пирамидальной сортировки:  0.42557716369628906\n"
     ]
    }
   ],
   "source": [
    "# part 7\n",
    "start = time.time()\n",
    "def binary_heap(matrix, length, index):\n",
    "        largest = index\n",
    "        left = 2 * index + 1\n",
    "        right = 2 * index + 2\n",
    "        if left < length and matrix[index] < matrix[left]:\n",
    "            largest = left\n",
    "        if right < length and matrix[largest] < matrix[right]:\n",
    "            largest = right\n",
    "        if largest != index:\n",
    "            matrix[index], matrix[largest] = matrix[largest], matrix[index]\n",
    "            binary_heap(matrix, length, largest)\n",
    "def heap_sort(matrix):\n",
    "    length = len(matrix)\n",
    "    for index in range(length, -1, -1):\n",
    "        binary_heap(matrix, length, index)\n",
    "    for index in range(length -1, 0, -1):\n",
    "        matrix[index], matrix[0] = matrix[0], matrix[index]\n",
    "        binary_heap(matrix, index, 0)\n",
    "    print(\"Время пирамидальной сортировки: \", (time.time() - start)*1000)\n",
    "heap_sort(n_matrix)"
   ]
  }
 ],
 "metadata": {
  "kernelspec": {
   "display_name": "Python 3",
   "language": "python",
   "name": "python3"
  },
  "language_info": {
   "codemirror_mode": {
    "name": "ipython",
    "version": 3
   },
   "file_extension": ".py",
   "mimetype": "text/x-python",
   "name": "python",
   "nbconvert_exporter": "python",
   "pygments_lexer": "ipython3",
   "version": "3.6.11"
  }
 },
 "nbformat": 4,
 "nbformat_minor": 4
}
